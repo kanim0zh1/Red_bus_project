{
 "cells": [
  {
   "cell_type": "code",
   "execution_count": 1,
   "id": "74b94a9e-af60-4341-8a1b-258872620723",
   "metadata": {},
   "outputs": [
    {
     "name": "stdout",
     "output_type": "stream",
     "text": [
      "Connection successful!\n",
      "Table Bus_routes created successfully!\n",
      "Data inserted successfully!\n"
     ]
    }
   ],
   "source": [
    "import pandas as pd\n",
    "import glob\n",
    "import os\n",
    "import pymysql\n",
    "\n",
    "# path details of all csv files\n",
    "folder_path = r'C:\\Users\\HP\\Desktop\\kani\\project_redbus\\Redbus_recheck'\n",
    "\n",
    "# Use glob to find all csv files in the folder\n",
    "csv_files = glob.glob(os.path.join(folder_path, \"*.csv\"))\n",
    "\n",
    "dfs=[]\n",
    "# Read each csv file and print or store the content\n",
    "for file in csv_files:\n",
    "    df = pd.read_csv(file)\n",
    "    dfs.append(df)\n",
    "    \n",
    "merged_df = pd.concat(dfs, ignore_index=True)   \n",
    "\n",
    "merged_df.to_csv(\"all_state_bus_detail.csv\", index=False)\n",
    "\n",
    "### data cleaning and data type changes:\n",
    "df = pd.read_csv(\"all_state_bus_detail.csv\")\n",
    "\n",
    "\n",
    "df['Price'] = df['Price'].str.replace('INR', \"\", regex= False)\n",
    "df['Price'] = pd.to_numeric(df['Price'], errors = 'coerce')\n",
    "\n",
    "\n",
    "df['Seats Available'] = df['Seats Available'].str.extract(r'(\\d+)')\n",
    "df['Seats Available'] = pd.to_numeric(df['Seats Available'], errors = 'coerce')\n",
    "\n",
    "df['Seats Available'] = df['Seats Available'].astype('Int64')\n",
    "df['Route Name'] = df['Route Name'].astype(str)\n",
    "df['Route Link'] = df['Route Link'].astype(str)\n",
    "df['Bus Name'] = df['Bus Name'].astype(str)\n",
    "df['Bus Type'] = df['Bus Type'].astype(str)\n",
    "df['Departure Time'] = pd.to_datetime(df['Departure Time'], format='%H:%M').dt.time  # Convert to time\n",
    "df['Reaching Time'] = pd.to_datetime(df['Reaching Time'], format='%H:%M').dt.time  # Convert to time\n",
    "df['State'] = df['State'].astype(str)\n",
    "df= df.dropna()\n",
    "\n",
    "# Connect to MySQL\n",
    "try:\n",
    "    myconnection = pymysql.connect(\n",
    "        host='127.0.0.1',\n",
    "        user='root',\n",
    "        passwd='Nikil@8405',\n",
    "        database='Red_Bus'\n",
    "    )\n",
    "    cursor = myconnection.cursor()\n",
    "    print(\"Connection successful!\")\n",
    "except pymysql.OperationalError as e:\n",
    "    print(f\"OperationalError: {e}\")\n",
    "# Creating database:\n",
    "# Create database red_bus\n",
    "\n",
    "\n",
    "# SQL query to create the table\n",
    "create_table_query = \"\"\"\n",
    "CREATE TABLE IF NOT EXISTS Bus_routes (\n",
    "    ID INT AUTO_INCREMENT PRIMARY KEY,\n",
    "    State TEXT,\n",
    "    Route_Name TEXT,\n",
    "    Route_Link TEXT,\n",
    "    Bus_Name TEXT,\n",
    "    Bus_Type TEXT,\n",
    "    Departing_Time TIME,\n",
    "    Duration TEXT,\n",
    "    Reaching_Time TIME,\n",
    "    Star_Rating FLOAT,\n",
    "    Price DECIMAL(10, 2),\n",
    "    Seats_Available INT\n",
    ");\n",
    "\"\"\"\n",
    "\n",
    "cursor.execute(create_table_query)\n",
    "\n",
    "print(\"Table Bus_routes created successfully!\")\n",
    "\n",
    "\n",
    "# Insert data into table\n",
    "insert_query = \"\"\"\n",
    "INSERT INTO Bus_routes (State,Route_Name, Route_Link, Bus_Name, Bus_Type, Departing_Time, Duration, Reaching_Time, Star_Rating, Price, Seats_Available)\n",
    "VALUES (%s, %s, %s, %s, %s, %s, %s, %s, %s, %s, %s);\n",
    "\"\"\"\n",
    "\n",
    "data_tuples = [\n",
    "    (\n",
    "        row['State'],\n",
    "        row['Route Name'],\n",
    "        row['Route Link'],\n",
    "        row['Bus Name'],\n",
    "        row['Bus Type'],\n",
    "        row['Departure Time'],\n",
    "        row['Duration'],\n",
    "        row['Reaching Time'],\n",
    "        row['Rating'],\n",
    "        row['Price'],\n",
    "        row['Seats Available']\n",
    "    )\n",
    "    for index, row in df.iterrows()\n",
    "]\n",
    "\n",
    "# Use executemany for batch inserts\n",
    "cursor.executemany(insert_query, data_tuples)\n",
    "myconnection.commit()\n",
    "print(\"Data inserted successfully!\")\n",
    "\n",
    "cursor.close()\n",
    "myconnection.close()"
   ]
  },
  {
   "cell_type": "code",
   "execution_count": 3,
   "id": "ad7eebeb-a1e5-4358-8040-8ef192bda8cb",
   "metadata": {},
   "outputs": [],
   "source": [
    "df = pd.read_csv(\"all_state_bus_detail.csv\")"
   ]
  },
  {
   "cell_type": "code",
   "execution_count": 5,
   "id": "3bfd8177-68fe-4f1b-a887-8f0eaff35c4d",
   "metadata": {},
   "outputs": [
    {
     "data": {
      "text/plain": [
       "State               object\n",
       "Route Name          object\n",
       "Route Link          object\n",
       "Bus Name            object\n",
       "Bus Type            object\n",
       "Departure Time      object\n",
       "Duration            object\n",
       "Reaching Time       object\n",
       "Rating             float64\n",
       "Price               object\n",
       "Seats Available     object\n",
       "dtype: object"
      ]
     },
     "execution_count": 5,
     "metadata": {},
     "output_type": "execute_result"
    }
   ],
   "source": [
    "df.dtypes"
   ]
  },
  {
   "cell_type": "code",
   "execution_count": 7,
   "id": "940ae4cf-2e5a-4c23-9a62-4f518767814f",
   "metadata": {},
   "outputs": [],
   "source": [
    "df['Price'] = df['Price'].str.replace('INR', \"\", regex= False)\n",
    "df['Price'] = pd.to_numeric(df['Price'], errors = 'coerce')\n",
    "\n",
    "\n",
    "df['Seats Available'] = df['Seats Available'].str.extract(r'(\\d+)')\n",
    "df['Seats Available'] = pd.to_numeric(df['Seats Available'], errors = 'coerce')\n",
    "\n",
    "df['Seats Available'] = df['Seats Available'].astype('Int64')  # Nullable integer\n",
    "df['Route Name'] = df['Route Name'].astype(str)\n",
    "df['Route Link'] = df['Route Link'].astype(str)\n",
    "df['Bus Name'] = df['Bus Name'].astype(str)\n",
    "df['Bus Type'] = df['Bus Type'].astype(str)\n",
    "df['Departure Time'] = pd.to_datetime(df['Departure Time'], format='%H:%M').dt.time  # Convert to time\n",
    "df['Reaching Time'] = pd.to_datetime(df['Reaching Time'], format='%H:%M').dt.time  # Convert to time\n",
    "df['State'] = df['State'].astype(str)"
   ]
  },
  {
   "cell_type": "code",
   "execution_count": 9,
   "id": "81c3cb13-625f-4676-a5b9-60459cb1a66e",
   "metadata": {},
   "outputs": [
    {
     "data": {
      "text/plain": [
       "State               object\n",
       "Route Name          object\n",
       "Route Link          object\n",
       "Bus Name            object\n",
       "Bus Type            object\n",
       "Departure Time      object\n",
       "Duration            object\n",
       "Reaching Time       object\n",
       "Rating             float64\n",
       "Price              float64\n",
       "Seats Available      Int64\n",
       "dtype: object"
      ]
     },
     "execution_count": 9,
     "metadata": {},
     "output_type": "execute_result"
    }
   ],
   "source": [
    "df.dtypes"
   ]
  },
  {
   "cell_type": "code",
   "execution_count": null,
   "id": "72ba7282-3def-4d82-861a-ec21b47ead12",
   "metadata": {},
   "outputs": [],
   "source": []
  }
 ],
 "metadata": {
  "kernelspec": {
   "display_name": "Python 3 (ipykernel)",
   "language": "python",
   "name": "python3"
  },
  "language_info": {
   "codemirror_mode": {
    "name": "ipython",
    "version": 3
   },
   "file_extension": ".py",
   "mimetype": "text/x-python",
   "name": "python",
   "nbconvert_exporter": "python",
   "pygments_lexer": "ipython3",
   "version": "3.12.4"
  }
 },
 "nbformat": 4,
 "nbformat_minor": 5
}
